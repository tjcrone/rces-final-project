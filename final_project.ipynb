{
 "cells": [
  {
   "cell_type": "markdown",
   "id": "566841ef-afe4-48da-a189-d65384b4728b",
   "metadata": {},
   "source": [
    "# RCES Final Project"
   ]
  },
  {
   "cell_type": "code",
   "execution_count": 1,
   "id": "b6b57656-36c5-4266-adb8-b4ed70586398",
   "metadata": {},
   "outputs": [],
   "source": [
    "h = 'hello'"
   ]
  },
  {
   "cell_type": "code",
   "execution_count": null,
   "id": "6ad655aa-276e-48e2-9a5c-cd8f5adecb95",
   "metadata": {},
   "outputs": [],
   "source": []
  }
 ],
 "metadata": {
  "kernelspec": {
   "display_name": "Python 3 (ipykernel)",
   "language": "python",
   "name": "python3"
  },
  "language_info": {
   "codemirror_mode": {
    "name": "ipython",
    "version": 3
   },
   "file_extension": ".py",
   "mimetype": "text/x-python",
   "name": "python",
   "nbconvert_exporter": "python",
   "pygments_lexer": "ipython3",
   "version": "3.9.13"
  }
 },
 "nbformat": 4,
 "nbformat_minor": 5
}
